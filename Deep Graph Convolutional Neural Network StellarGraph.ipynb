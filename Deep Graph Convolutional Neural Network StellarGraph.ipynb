{
 "cells": [
  {
   "cell_type": "markdown",
   "id": "1b19952a",
   "metadata": {},
   "source": [
    "# Graph Classification with the PROTEINS Dataset"
   ]
  },
  {
   "cell_type": "markdown",
   "id": "1452f06f",
   "metadata": {},
   "source": [
    "Graph classification is the task of predicting an attribute or label of an entire graph. This is in contrast with node classification, for example, in which we are only interested in predicting the labels of the nodes in the graph. \n",
    "\n",
    "There are many possible applications of graph classification: determining the type of network a group of individuals forms (friendship group, work colleagues, family etc.), the classification of newly discovered molecules, determining the type of vehicle making a journey on a road network, and so on.\n",
    "\n",
    "In this notebook we are going to employ graph classification to predict whether a protein is an enzyme or non-enzyme. Proteins can be represented as graphs, with the amino acids in the protein serving as the graph nodes, and the bonds between these amino acids as the graph edges. The dataset we are going to use is the PROTEINS dataset, which is a benchmark dataset for graph classification tasks. \n",
    "\n",
    "To perform graph classification we are going to utilise the StellarGraph Python library to construct and train a Deep Graph Convolutional Neural Network (DGCNN). StellarGraph offers a wide variety of state-of-the-art algorithms for graph Machine Learning, and is very intuitive to use. "
   ]
  },
  {
   "cell_type": "code",
   "execution_count": 23,
   "id": "c13c216d",
   "metadata": {},
   "outputs": [],
   "source": [
    "import numpy as np\n",
    "import stellargraph as sg\n",
    "import pandas as pd\n",
    "import warnings\n",
    "warnings.filterwarnings('ignore')\n",
    "warnings.simplefilter('ignore')\n",
    "from stellargraph import datasets\n",
    "from stellargraph.mapper import PaddedGraphGenerator\n",
    "from stellargraph.layer import DeepGraphCNN\n",
    "from sklearn.utils import shuffle\n",
    "from sklearn import model_selection\n",
    "from sklearn.model_selection import train_test_split\n",
    "from tensorflow.keras import Model\n",
    "from tensorflow.keras.optimizers import Adam\n",
    "from tensorflow.keras.layers import Dense, Conv1D, MaxPool1D, Dropout, Flatten\n",
    "from tensorflow.keras.losses import binary_crossentropy\n",
    "from sklearn.metrics import confusion_matrix, classification_report"
   ]
  },
  {
   "cell_type": "markdown",
   "id": "bd2ca379",
   "metadata": {},
   "source": [
    "We begin by loading the PROTEINS dataset which is included in StellarGraph. "
   ]
  },
  {
   "cell_type": "code",
   "execution_count": 24,
   "id": "833cabfd",
   "metadata": {},
   "outputs": [
    {
     "name": "stdout",
     "output_type": "stream",
     "text": [
      "Each graph represents a protein and graph labels represent whether they are are enzymes or non-enzymes. The dataset includes 1113 graphs with 39 nodes and 73 edges on average for each graph. Graph nodes have 4 attributes (including a one-hot encoding of their label), and each graph is labelled as belonging to 1 of 2 classes.\n"
     ]
    }
   ],
   "source": [
    "dataset = datasets.PROTEINS()\n",
    "print(dataset.description)"
   ]
  },
  {
   "cell_type": "code",
   "execution_count": 25,
   "id": "1fb6b5ca",
   "metadata": {},
   "outputs": [],
   "source": [
    "graphs, labels = dataset.load()"
   ]
  },
  {
   "cell_type": "markdown",
   "id": "8d28801c",
   "metadata": {},
   "source": [
    "Let's have a look at one of the protein graph objects in the dataset."
   ]
  },
  {
   "cell_type": "code",
   "execution_count": 26,
   "id": "cfb20174",
   "metadata": {},
   "outputs": [
    {
     "name": "stdout",
     "output_type": "stream",
     "text": [
      "StellarGraph: Undirected multigraph\n",
      " Nodes: 10, Edges: 34\n",
      "\n",
      " Node types:\n",
      "  default: [10]\n",
      "    Features: float32 vector, length 4\n",
      "    Edge types: default-default->default\n",
      "\n",
      " Edge types:\n",
      "    default-default->default: [34]\n",
      "        Weights: all 1 (default)\n",
      "        Features: none\n"
     ]
    }
   ],
   "source": [
    "print(graphs[2].info())"
   ]
  },
  {
   "cell_type": "markdown",
   "id": "e23cbd85",
   "metadata": {},
   "source": [
    "This graph is a multigraph (two nodes may be connected by multiple edges) and has undirected edges. It has 10 nodes and 34 edges. The nodes have four features, as expected, and the edges have none. All edges are weighted equally."
   ]
  },
  {
   "cell_type": "markdown",
   "id": "4e0bd2bd",
   "metadata": {},
   "source": [
    "Let's have a look at this graph's nodes."
   ]
  },
  {
   "cell_type": "code",
   "execution_count": 27,
   "id": "389d22f0",
   "metadata": {},
   "outputs": [
    {
     "data": {
      "text/plain": [
       "Int64Index([70, 71, 72, 73, 74, 75, 76, 77, 78, 79], dtype='int64')"
      ]
     },
     "execution_count": 27,
     "metadata": {},
     "output_type": "execute_result"
    }
   ],
   "source": [
    "graphs[2].nodes()"
   ]
  },
  {
   "cell_type": "markdown",
   "id": "c1539e41",
   "metadata": {},
   "source": [
    "Let's look at the edges that run between these nodes."
   ]
  },
  {
   "cell_type": "code",
   "execution_count": 28,
   "id": "88876060",
   "metadata": {},
   "outputs": [
    {
     "data": {
      "text/plain": [
       "[(71, 70),\n",
       " (72, 70),\n",
       " (79, 70),\n",
       " (70, 71),\n",
       " (72, 71),\n",
       " (79, 71),\n",
       " (70, 72),\n",
       " (71, 72),\n",
       " (73, 72),\n",
       " (79, 72),\n",
       " (72, 73),\n",
       " (74, 73),\n",
       " (75, 73),\n",
       " (73, 74),\n",
       " (75, 74),\n",
       " (76, 74),\n",
       " (73, 75),\n",
       " (74, 75),\n",
       " (76, 75),\n",
       " (77, 75),\n",
       " (78, 75),\n",
       " (74, 76),\n",
       " (75, 76),\n",
       " (77, 76),\n",
       " (78, 76),\n",
       " (75, 77),\n",
       " (76, 77),\n",
       " (78, 77),\n",
       " (75, 78),\n",
       " (76, 78),\n",
       " (77, 78),\n",
       " (70, 79),\n",
       " (71, 79),\n",
       " (72, 79)]"
      ]
     },
     "execution_count": 28,
     "metadata": {},
     "output_type": "execute_result"
    }
   ],
   "source": [
    "graphs[2].edges()"
   ]
  },
  {
   "cell_type": "markdown",
   "id": "bc7a7662",
   "metadata": {},
   "source": [
    "We can get the degree of each graph node. For example,"
   ]
  },
  {
   "cell_type": "code",
   "execution_count": 29,
   "id": "5232ba9f",
   "metadata": {},
   "outputs": [
    {
     "data": {
      "text/plain": [
       "defaultdict(int,\n",
       "            {70: 6,\n",
       "             71: 6,\n",
       "             72: 8,\n",
       "             73: 6,\n",
       "             74: 6,\n",
       "             75: 10,\n",
       "             76: 8,\n",
       "             77: 6,\n",
       "             78: 6,\n",
       "             79: 6})"
      ]
     },
     "execution_count": 29,
     "metadata": {},
     "output_type": "execute_result"
    }
   ],
   "source": [
    "graphs[2].node_degrees()"
   ]
  },
  {
   "cell_type": "markdown",
   "id": "db967a48",
   "metadata": {},
   "source": [
    "We can get the adjacent neighbours to a node."
   ]
  },
  {
   "cell_type": "code",
   "execution_count": 30,
   "id": "43dded50",
   "metadata": {},
   "outputs": [
    {
     "data": {
      "text/plain": [
       "[72, 75, 74, 72, 75, 74]"
      ]
     },
     "execution_count": 30,
     "metadata": {},
     "output_type": "execute_result"
    }
   ],
   "source": [
    "graphs[2].neighbors(73)"
   ]
  },
  {
   "cell_type": "markdown",
   "id": "b862ad98",
   "metadata": {},
   "source": [
    "Now let's take a look at the labels of all the graphs."
   ]
  },
  {
   "cell_type": "code",
   "execution_count": 31,
   "id": "0256fdfa",
   "metadata": {},
   "outputs": [
    {
     "name": "stdout",
     "output_type": "stream",
     "text": [
      "1       1\n",
      "2       1\n",
      "3       1\n",
      "4       1\n",
      "5       1\n",
      "       ..\n",
      "1109    2\n",
      "1110    2\n",
      "1111    2\n",
      "1112    2\n",
      "1113    2\n",
      "Name: label, Length: 1113, dtype: category\n",
      "Categories (2, object): ['1', '2']\n"
     ]
    }
   ],
   "source": [
    "print(labels)"
   ]
  },
  {
   "cell_type": "code",
   "execution_count": 32,
   "id": "18814550",
   "metadata": {},
   "outputs": [
    {
     "data": {
      "text/html": [
       "<div>\n",
       "<style scoped>\n",
       "    .dataframe tbody tr th:only-of-type {\n",
       "        vertical-align: middle;\n",
       "    }\n",
       "\n",
       "    .dataframe tbody tr th {\n",
       "        vertical-align: top;\n",
       "    }\n",
       "\n",
       "    .dataframe thead th {\n",
       "        text-align: right;\n",
       "    }\n",
       "</style>\n",
       "<table border=\"1\" class=\"dataframe\">\n",
       "  <thead>\n",
       "    <tr style=\"text-align: right;\">\n",
       "      <th></th>\n",
       "      <th>label</th>\n",
       "    </tr>\n",
       "  </thead>\n",
       "  <tbody>\n",
       "    <tr>\n",
       "      <th>1</th>\n",
       "      <td>663</td>\n",
       "    </tr>\n",
       "    <tr>\n",
       "      <th>2</th>\n",
       "      <td>450</td>\n",
       "    </tr>\n",
       "  </tbody>\n",
       "</table>\n",
       "</div>"
      ],
      "text/plain": [
       "   label\n",
       "1    663\n",
       "2    450"
      ]
     },
     "execution_count": 32,
     "metadata": {},
     "output_type": "execute_result"
    }
   ],
   "source": [
    "labels.value_counts().to_frame()"
   ]
  },
  {
   "cell_type": "markdown",
   "id": "1ce481bc",
   "metadata": {},
   "source": [
    "As we can see, there are more samples of label 1 than label 2 (59.5% to 40.5%).\n",
    "\n",
    "We are going to simplify by changing the labels to zeros and ones."
   ]
  },
  {
   "cell_type": "code",
   "execution_count": 33,
   "id": "d9645035",
   "metadata": {},
   "outputs": [
    {
     "name": "stdout",
     "output_type": "stream",
     "text": [
      "      2\n",
      "1     0\n",
      "2     0\n",
      "3     0\n",
      "4     0\n",
      "5     0\n",
      "...  ..\n",
      "1109  1\n",
      "1110  1\n",
      "1111  1\n",
      "1112  1\n",
      "1113  1\n",
      "\n",
      "[1113 rows x 1 columns]\n"
     ]
    }
   ],
   "source": [
    "labels = pd.get_dummies(labels, drop_first=True)\n",
    "print(labels)"
   ]
  },
  {
   "cell_type": "code",
   "execution_count": 34,
   "id": "2e1ba6d6",
   "metadata": {},
   "outputs": [
    {
     "data": {
      "text/html": [
       "<div>\n",
       "<style scoped>\n",
       "    .dataframe tbody tr th:only-of-type {\n",
       "        vertical-align: middle;\n",
       "    }\n",
       "\n",
       "    .dataframe tbody tr th {\n",
       "        vertical-align: top;\n",
       "    }\n",
       "\n",
       "    .dataframe thead th {\n",
       "        text-align: right;\n",
       "    }\n",
       "</style>\n",
       "<table border=\"1\" class=\"dataframe\">\n",
       "  <thead>\n",
       "    <tr style=\"text-align: right;\">\n",
       "      <th></th>\n",
       "      <th>0</th>\n",
       "    </tr>\n",
       "    <tr>\n",
       "      <th>2</th>\n",
       "      <th></th>\n",
       "    </tr>\n",
       "  </thead>\n",
       "  <tbody>\n",
       "    <tr>\n",
       "      <th>0</th>\n",
       "      <td>663</td>\n",
       "    </tr>\n",
       "    <tr>\n",
       "      <th>1</th>\n",
       "      <td>450</td>\n",
       "    </tr>\n",
       "  </tbody>\n",
       "</table>\n",
       "</div>"
      ],
      "text/plain": [
       "     0\n",
       "2     \n",
       "0  663\n",
       "1  450"
      ]
     },
     "execution_count": 34,
     "metadata": {},
     "output_type": "execute_result"
    }
   ],
   "source": [
    "labels.value_counts().to_frame()"
   ]
  },
  {
   "cell_type": "markdown",
   "id": "78683ca1",
   "metadata": {},
   "source": [
    "It is always a good idea to shuffle the data before using it in a Machine Learning model."
   ]
  },
  {
   "cell_type": "code",
   "execution_count": 35,
   "id": "06d4a2c0",
   "metadata": {},
   "outputs": [],
   "source": [
    "graphs, labels = shuffle(graphs, labels)"
   ]
  },
  {
   "cell_type": "markdown",
   "id": "ee061805",
   "metadata": {},
   "source": [
    "Now we are going to define some methods that will separate our graphs and labels into training, validation and testing sets.  "
   ]
  },
  {
   "cell_type": "code",
   "execution_count": 36,
   "id": "7f30eddf",
   "metadata": {},
   "outputs": [],
   "source": [
    "class DataPreprocessing:\n",
    "    \n",
    "    def __init__(self, graphs, labels):\n",
    "        \n",
    "        self.graphs = graphs\n",
    "        self.labels = labels\n",
    "        \n",
    "\n",
    "    def training_testing_sets(self, test_size):\n",
    "        \n",
    "        # splits the data into training and testing sets\n",
    "        train_graphs, test_graphs, train_labels, test_labels = train_test_split(self.graphs, self.labels, \n",
    "                                                                                test_size = test_size, random_state = 3)\n",
    "        return train_graphs, test_graphs, train_labels, test_labels\n",
    "\n",
    "    \n",
    "    @staticmethod\n",
    "    def train_valid_sets(train_graphs, train_labels, validation_size):\n",
    "        \n",
    "        # create a validation set from the training set\n",
    "        training_size = int((1-validation_size)*1000)\n",
    "        validation_size = int(1000*validation_size)\n",
    "        # for later use in generators we only require the split indices and not the splits themselves\n",
    "        train_index = [i for i in range(training_size)]\n",
    "        valid_index = [i for i in range(training_size, training_size+validation_size+1)]\n",
    "        # get the corresponding labels\n",
    "        train_labels1 = train_labels[:training_size]\n",
    "        valid_labels = train_labels[training_size:]\n",
    "        return train_index, valid_index, train_labels1, valid_labels"
   ]
  },
  {
   "cell_type": "markdown",
   "id": "d09844ae",
   "metadata": {},
   "source": [
    "Let's perform the split."
   ]
  },
  {
   "cell_type": "code",
   "execution_count": 37,
   "id": "0579897d",
   "metadata": {},
   "outputs": [],
   "source": [
    "data_preprocessing = DataPreprocessing(graphs, labels)\n",
    "train_graphs, test_graphs, train_labels_0, test_labels = data_preprocessing.training_testing_sets(0.1)\n",
    "train_index, valid_index, train_labels, valid_labels = data_preprocessing.train_valid_sets(train_graphs, train_labels_0, \n",
    "                                                                                     validation_size = 0.1)"
   ]
  },
  {
   "cell_type": "markdown",
   "id": "a4be362e",
   "metadata": {},
   "source": [
    "The DGCNN model we are going to implement for graph classification is adapted from the paper \"An End-to-End Deep Learning Architecture for Graph Classification\" by Zhang, M., et al, 2018. The DGCNN model arised from the desire of the authors to improve the performance of spatial graph convolutional neural networks for graph classification. Previous attempts were disappointing; one reason was that much of a graph's rich node information was summend up into graph-level features. Their new model attempted to rectify this by retaining more of a graph's node information and learning from its topology. The first layers of the DGCNN are the spatial graph convolution layers, defined by\n",
    "\n",
    "$$Z = \\sigma\\left(\\bar{D^{-1}}\\bar{A}XW\\right)\\tag*{(1)}$$\n",
    "\n",
    "where $\\sigma$ is a non-linear activation function, $\\bar{A} = A + I$ is the adjacency matrix of the graph with added self-loops (self-loops appear as the diagonal elements in an adjacency matrix), $\\bar{D}$ is the degree matrix corresponding to $\\bar{A}$, $X$ is the graph's node information matrix (each row consists of a node's feature vector), and $W$ is a weights matrix. Let's use an example with some $3\\times3$ matrices to see how the convolution works: \n",
    "\n",
    "$$\\begin{align}\\bar{A}XW &= \\begin{pmatrix}\n",
    "1 & a_{12} & a_{13}\\\\\n",
    "a_{21} & 1 & a_{23}\\\\\n",
    "a_{31} & a_{32} & 1\n",
    "\\end{pmatrix}\n",
    "\\begin{pmatrix}\n",
    "x_{11} & x_{12} & x_{13}\\\\\n",
    "x_{21} & x_{22} & x_{23}\\\\\n",
    "x_{31} & x_{32} & x_{33}\n",
    "\\end{pmatrix}\n",
    "\\begin{pmatrix}\n",
    "w_{11} & w_{12} & w_{13}\\\\\n",
    "w_{21} & w_{22} & w_{23}\\\\\n",
    "w_{31} & w_{32} & w_{33}\n",
    "\\end{pmatrix}\\\\\n",
    "&= \\begin{pmatrix}\n",
    "1 & a_{12} & a_{13}\\\\\n",
    "a_{21} & 1 & a_{23}\\\\\n",
    "a_{31} & a_{32} & 1\n",
    "\\end{pmatrix}\n",
    "\\begin{pmatrix}\n",
    "x_{11}w_{11}+x_{12}w_{21}+x_{13}w_{31} & x_{11}w_{12}+x_{12}w_{22}+x_{13}w_{32} & x_{11}w_{13}+x_{12}w_{23}+x_{13}w_{33}\\\\\n",
    "x_{21}w_{11}+x_{22}w_{21}+x_{23}w_{31} & x_{21}w_{12}+x_{22}w_{22}+x_{23}w_{32} & x_{21}w_{13}+x_{22}w_{23}+x_{23}w_{33}\\\\\n",
    "x_{31}w_{11}+x_{32}w_{21}+x_{33}w_{31} & x_{31}w_{12}+x_{32}w_{22}+x_{33}w_{32} & x_{31}w_{13}+x_{32}w_{23}+x_{33}w_{33}\n",
    "\\end{pmatrix}\n",
    "\\end{align}\n",
    "$$\n",
    "\n",
    "If we look at, say $(\\bar{A}XW)_{11}$, the first element of the first row of $\\bar{A}XW$, we will have the matrix element\n",
    "\n",
    "$$\n",
    "x_{11}w_{11}+x_{12}w_{21}+x_{13}w_{31} + a_{12}(x_{21}w_{11}+x_{22}w_{21}+x_{23}w_{31}) + a_{13}(x_{31}w_{11}+x_{32}w_{21}+x_{33}w_{31})\n",
    "$$\n",
    "\n",
    "This is just \n",
    "$$(XW)_{11}+a_{12}(XW)_{21}+a_{13}(XW)_{31}\\tag*{(2)}$$\n",
    "\n",
    "Therefore, $XW$ represents a linear transformation of the node information matrix, and $\\bar{A}XW$ propagates a node's information to its neighbours, and not just itself. Information is only propagated to a node's neighbours since in the adjacency matrix $\\bar{A}$, elements are zero between nodes that are not adjacent.\n",
    "\n",
    "Next comes the multiplication by $\\bar{D^{-1}}$ which normalises each row of $\\bar{A}XW$ to keep a fixed feature scale after convolution. We can see how this works with a simple example using $2\\times2$ matrices:\n",
    "\n",
    "Let's say that we have $\\bar{A} = \\begin{pmatrix}\n",
    "1 & a_{12}\\\\\n",
    "a_{21} & 1\n",
    "\\end{pmatrix}$\n",
    "\n",
    "This would mean that \n",
    "\n",
    "$$\\bar{D} = \\begin{pmatrix}\n",
    "1+a_{12} & 0\\\\\n",
    "0 & 1+a_{21}\n",
    "\\end{pmatrix}$$ and $$\\bar{D^{-1}} = \\frac{1}{(1+a_{21})(1+a_{12})}\\begin{pmatrix}\n",
    "1+a_{21} & 0\\\\\n",
    "0 & 1+a_{12}\n",
    "\\end{pmatrix}$$\n",
    "\n",
    "Multiplying $\\bar{D^{-1}}$ and $\\bar{A}$ together we get\n",
    "\n",
    "$$\\begin{align}\\bar{D^{-1}}\\bar{A} &= \\frac{1}{(1+a_{21})(1+a_{12})}\\begin{pmatrix}\n",
    "1+a_{21} & 0\\\\\n",
    "0 & 1+a_{12}\n",
    "\\end{pmatrix}\\begin{pmatrix}\n",
    "1 & a_{12}\\\\\n",
    "a_{21} & 1\n",
    "\\end{pmatrix}\\\\\n",
    "&= \\begin{pmatrix}\n",
    "\\frac{1}{1+a_{12}} & \\frac{a_{12}}{1+a_{12}}\\\\\n",
    "\\frac{a_{21}}{1+a_{21}} & \\frac{1}{1+a_{21}}\n",
    "\\end{pmatrix}\\end{align}$$\n",
    "\n",
    "Adding the first row's elements we get \n",
    "$$\\frac{1}{1+a_{12}} + \\frac{a_{12}}{1+a_{12}} = \\frac{1+a_{12}}{1+a_{12}} = 1$$\n",
    "\n",
    "Adding the second row's elements we get\n",
    "$$\\frac{a_{21}}{1+a_{21}} + \\frac{1}{1+a_{21}} = \\frac{1+a_{21}}{1+a_{21}} = 1$$\n",
    "\n",
    "i.e., the rows are normalised to unity. \n",
    "\n",
    "A single graph convolution layer aggregates node information in local neighbourhoods to extract local substructure information. To extract multi-scale substructure features we must stack multiple graph convolution layers according to \n",
    "\n",
    "$$Z^{n+1} = \\sigma\\left(\\bar{D^{-1}}\\bar{A}Z^nW^n\\right)$$\n",
    "\n",
    "where $Z^n$ is the output of the nth graph convolution layer ($Z^0 = X$), and $W^n$ is the weights matrix for the nth layer.\n",
    "\n",
    "After the convolution layers, all the outputs, the $Z^i$, are concatenated together horizontally to form a new matrix $Z^{1:p}$, where $p$ is the number of convolution layers. Each row of $Z^{1:p}$ will consist of the output computed for the same node in each of the convolution layers. For example, if we have three convolution layers and the rows for, say, node A in each layer are $(z^1_{A})$, $(z^2_{A})$, and $(z^3_{A})$ respectively, then the row for node A in $Z^{1:3}$ will be $(z^1_{A}\\quad z^2_{A}\\quad z^3_{A})$. The rows of $Z^{1:p}$ are called the feature descriptors."
   ]
  },
  {
   "cell_type": "markdown",
   "id": "1297b200",
   "metadata": {},
   "source": [
    "After the graph convolution layers comes the sort-pooling layer. The main function of this layer is to sort the node feature descriptors in a consistent manner before passing them on to the conventional convolutional and fully-connected layers. The sort-pooling layer is able to do this since the output of the final graph convolution layer is the same as that of the Weisfeiler-Lehman (WL) algorithm. \n",
    "\n",
    "The WL algorithm is typically employed to determine if two graphs are isomorphic. It's first step is to give all the graph nodes the same label, or colour. A node is then assigned a tuple which is comprised of two parts: the node's colour, and a multiset (a set which allows multiple instances of the same element) of the colours of the node's one-hop neighbours. New colours are assigned again, with any nodes sharing identical tuples taking the same colour. This process is repeated again and again until the colours converge or some maximum iteration is reached. For a better description see [here](https://davidbieber.com/post/2019-05-10-weisfeiler-lehman-isomorphism-test/). Since the algorithm utilises only the structure of the graph, nodes that finish with the same colour will have the same structural role in the graph.\n",
    "\n",
    "We can see from equations (1) and (2) that the i-th row of $Z$ can be expressed as\n",
    "$$Z_{i} = \\sigma\\Biggl\\{\\bar{D^{-1}}_{ii}\\left[(XW)_{i} + \\sum_{j} (XW)_{j}\\right]\\Biggr\\}$$\n",
    "where the $j$ represent the nodes adjacent to node $i$.\n",
    "\n",
    "The portion within the curly brackets is analogous to the tuple label in the WL algorithm, since it is aggregating the feature information of node i and its neighbours (In the WL algorithm, node i's colour is aggregated with those of its neighbours). The non-linear function $\\sigma$ then effectively maps this aggregated feature information to a new colour.\n",
    "\n",
    "The input to the sort-pooling layer, $Z^{1:p}$, is first sorted according to $Z^{p}$, the final output layer, since the colours in this layer can be considered the most refined. Nodes (rows) are sorted in descending order according to the final column of $Z^{p}$. If there exists a tie between two or more nodes, the second to last columns are compared, and so on. If the ties continue, the columns are then compared in $Z^{p-1}$, $Z^{p-2}$, and so on. In this way, graph nodes are consistently ordered, permitting the training of traditional neural networks on the representations.\n",
    "\n",
    "Another caracteristic of the sort-pooling layer is that it standardises, to an integer $k$, the number of rows in the output $Z^{p}$. Rows can be added or deleted, depending on whether the output has less or more rows than $k$, respectively. This enables the model to be trained on graphs consisting of varying numbers of nodes. Furthermore, the sort-pooling layer is able to pass loss function gradients back to the previous layers by remembering the sorted order of its input. Therefore, the parameters of these layers can be trained and backpropagation undertaken. \n",
    "\n",
    "The final output from the sort-pooling layer is reshaped into a $k\\sum_{1}^{p}c_n \\times 1$ vector, where $c_n$ is the number of feature channels (columns) of layer $n$. For example, if we have three layers and $c_{1} = 6$, $c_{1} = 5$, $c_{1} = 4$, and we choose $k = 10$, the reshaped output will be a $(150 \\times 1)$ vector. The first 1D-convolutional layer is chosen to have a filter size and stride length of $\\sum_{1}^{p}c_n$. The consequence of this is that filters are applied sequentially on vertices' feature descriptors. Returning to our example, a filter is first applied to the 15 feature descriptors (six in the first layer, five in the second, four in the thrid) of node one (for lack of a better naming convention), then to the 15 feature descriptors of node two, and so on, until the filter has been applied to all $k=10$ nodes. A max-pooling layer and another 1D-convolutional layer are then employed to learn local patterns on the node sequence. These are followed by several fully-connected layers."
   ]
  },
  {
   "cell_type": "markdown",
   "id": "f2527433",
   "metadata": {},
   "source": [
    "Now we are going to create our DGCNN model using StellarGraph and Keras. Initially, we require generator methods that will pass the data into the model in batches. The first layers in the DGCNN are the graph convolutional layers. Following these are a sort-pooling layer and a standard convolutional layer. Next comes a max-pooling layer, followed by another convolutional layer. The output is flattened and passed through three fully-connected layers, with the last being the output layer. The model is then layered together and configured; we choose the Adam optimisation algorithm and an appropriate cost function. There are also methods that will employ the DGCNN to make predictions on the testing set and evaluate the model's performance. "
   ]
  },
  {
   "cell_type": "code",
   "execution_count": 38,
   "id": "88a17750",
   "metadata": {},
   "outputs": [],
   "source": [
    "class DGCNN:\n",
    "    \n",
    "    \n",
    "    @staticmethod\n",
    "    def create_generator(graphs):\n",
    "        \n",
    "        # PaddedGraphGenerator supplies the features arrays and the adjacency matrices to a mini-batch Keras\n",
    "        # graph classification model.\n",
    "        generator = PaddedGraphGenerator(graphs=graphs)\n",
    "        return generator\n",
    "\n",
    "\n",
    "    def get_training_generators(self, train_graphs, train_index, train_labels, valid_index, valid_labels, batch_size):\n",
    "        \n",
    "        # create generator of training data\n",
    "        self.training_generator = self.create_generator(train_graphs)\n",
    "        # flow reates a generator/sequence object for training, evaluation, or prediction\n",
    "        # with the supplied graph indexes and targets.\n",
    "        # generate generator flow objects for training and validation data.\n",
    "        self.train_gen = self.training_generator.flow(train_index, targets = train_labels, \n",
    "                                                              batch_size = batch_size)\n",
    "        self.valid_gen = self.training_generator.flow(valid_index, targets = valid_labels, \n",
    "                                                              batch_size = batch_size)\n",
    "\n",
    "\n",
    "\n",
    "    def get_testing_generator(self, test_graphs, test_labels):\n",
    "        \n",
    "        # create generator of testing data\n",
    "        testing_generator = self.create_generator(test_graphs)\n",
    "        # create generator flow object\n",
    "        self.test_gen = testing_generator.flow(test_graphs, targets = test_labels, batch_size =1, \n",
    "                                               symmetric_normalization = False)\n",
    "        \n",
    "\n",
    "    def create_DGCNN(self, layer_sizes, activations, k, num_kernels, kernel_sizes, strides, \n",
    "              pool_size, num_neurons, fc_activations):\n",
    "        \n",
    "        # add a stack of graph convolution layers with a sort-pooling layer\n",
    "        dgcnn = DeepGraphCNN(layer_sizes = layer_sizes, activations = activations, k = k, bias = False, \n",
    "                             generator = self.training_generator)\n",
    "        # access the input and output tensors of the graph convolution layers\n",
    "        x_inp, x_out = dgcnn.in_out_tensors()\n",
    "        # first conventional convolutional layer\n",
    "        output1 = Conv1D(filters = num_kernels[0], kernel_size = kernel_sizes[0], strides = strides[0])(x_out)\n",
    "        # max-pooling layer\n",
    "        output2 = MaxPool1D(pool_size = pool_size)(output1)\n",
    "        # second conventional convolutional layer\n",
    "        output3 = Conv1D(filters = num_kernels[1], kernel_size = kernel_sizes[1], strides = strides[1])(output2)\n",
    "        # flatten output for dense layers\n",
    "        output4 = Flatten()(output3)\n",
    "        # first dense layer\n",
    "        output5 = Dense(units = num_neurons[0], activation = fc_activations[0])(output4)\n",
    "        # second dense layer\n",
    "        output7 = Dense(units = num_neurons[1], activation = fc_activations[1])(output4)\n",
    "        # output layer\n",
    "        predictions = Dense(units = 1, activation = fc_activations[2])(output7)\n",
    "        # group all layers into model object\n",
    "        self.model = Model(inputs = x_inp, outputs = predictions)\n",
    "\n",
    "\n",
    "\n",
    "    def configure_train_DGCNN(self, learning_rate, loss_function, epochs):\n",
    "        \n",
    "        # configure model\n",
    "        self.model.compile(optimizer = Adam(learning_rate = learning_rate), loss = loss_function, metrics = ['acc'])\n",
    "        # train model with training and validation sets\n",
    "        self.history = self.model.fit(self.train_gen, epochs = epochs, verbose = 1, validation_data = self.valid_gen,\n",
    "                                 shuffle = False)\n",
    "        \n",
    "\n",
    " \n",
    "    @staticmethod        \n",
    "    def get_prediction_assessment(row):\n",
    "        \n",
    "        # this function indicates whether a prediction is a true-positive, true-negative, false-positive,\n",
    "        # or false-negative\n",
    "    \n",
    "        prediction = row['prediction']\n",
    "        label = row['label']\n",
    "        if prediction > 0.5 and label == 1:\n",
    "            return 'TP'\n",
    "        elif prediction < 0.5 and label == 1:\n",
    "            return 'FN'\n",
    "        elif prediction > 0.5 and label == 0:\n",
    "            return 'FP'\n",
    "        else:\n",
    "            return 'TN'\n",
    "        \n",
    "    \n",
    "    def get_test_results(self):\n",
    "           \n",
    "        # get predictions on the test set\n",
    "        predictions = self.model.predict(self.test_gen)\n",
    "        # convert to list\n",
    "        predictions2 = [i[0] for i in predictions]\n",
    "        # create dataframe of the results\n",
    "        results_dict = {'prediction': predictions2, 'label': test_labels['2'].tolist()}\n",
    "        self.results_df = pd.DataFrame(data=results_dict)\n",
    "        self.results_df['assessment'] = self.results_df.apply(lambda row: self.get_prediction_assessment(row), axis = 1)\n",
    "        \n",
    "   \n",
    "    def evaluate_results(self):\n",
    "        \n",
    "        # get class labels for the model's predicted probabilities \n",
    "        self.predicted_classes = np.where(self.results_df['prediction'] > 0.5, 1, 0)\n",
    "        # generate confusion matrix and classification report\n",
    "        self.confusion_matrix = confusion_matrix(self.results_df['label'], self.predicted_classes)\n",
    "        self.classification_report = classification_report(self.results_df['label'], self.predicted_classes)\n",
    "        \n",
    "    \n",
    "    def training_history(self):\n",
    "        \n",
    "        # produce plots of loss and metric history\n",
    "        sg.utils.plot_history(self.history)        "
   ]
  },
  {
   "cell_type": "markdown",
   "id": "022d53cc",
   "metadata": {},
   "source": [
    "The argument layer_sizes of the create_DGCNN method refers to the number of columns in the output of the graph convolution layers, i.e., the number of columns in the $Z^p$. We will use the same number of graph convolution layers, with the same number of output columns as Zhang et al, i.e., four convolution layers with the first three having 32 output columns and the last having one, with this single column being the only one utilised for sorting the nodes, out of convenience. The numbers of kernels used in the 1D-convolutional layers follows those used by Zhang et al, as do the activation functions used in the graph convolution and fully-connected layers. Unlike Zhang et al, we do not use a dropout layer, since performance on the test set was improved wihtout one. Performance on the test set deteriorated for larger learning rates, so this was kept very small. Since our problem is a binary classification task, the cross-entropy cost function was employed."
   ]
  },
  {
   "cell_type": "code",
   "execution_count": 39,
   "id": "6c8a039e",
   "metadata": {},
   "outputs": [
    {
     "name": "stdout",
     "output_type": "stream",
     "text": [
      "Epoch 1/100\n",
      "36/36 [==============================] - 8s 115ms/step - loss: 0.6387 - acc: 0.6144 - val_loss: 0.5763 - val_acc: 0.6931\n",
      "Epoch 2/100\n",
      "36/36 [==============================] - 4s 100ms/step - loss: 0.6156 - acc: 0.6767 - val_loss: 0.5704 - val_acc: 0.7723\n",
      "Epoch 3/100\n",
      "36/36 [==============================] - 3s 81ms/step - loss: 0.6040 - acc: 0.7011 - val_loss: 0.5682 - val_acc: 0.7624\n",
      "Epoch 4/100\n",
      "36/36 [==============================] - 3s 86ms/step - loss: 0.5966 - acc: 0.7189 - val_loss: 0.5647 - val_acc: 0.7723\n",
      "Epoch 5/100\n",
      "36/36 [==============================] - 3s 89ms/step - loss: 0.5914 - acc: 0.7178 - val_loss: 0.5607 - val_acc: 0.7723\n",
      "Epoch 6/100\n",
      "36/36 [==============================] - 3s 91ms/step - loss: 0.5873 - acc: 0.7178 - val_loss: 0.5558 - val_acc: 0.7723\n",
      "Epoch 7/100\n",
      "36/36 [==============================] - 3s 89ms/step - loss: 0.5840 - acc: 0.7178 - val_loss: 0.5518 - val_acc: 0.7723\n",
      "Epoch 8/100\n",
      "36/36 [==============================] - 3s 85ms/step - loss: 0.5817 - acc: 0.7156 - val_loss: 0.5477 - val_acc: 0.7723\n",
      "Epoch 9/100\n",
      "36/36 [==============================] - 3s 87ms/step - loss: 0.5793 - acc: 0.7167 - val_loss: 0.5445 - val_acc: 0.7723\n",
      "Epoch 10/100\n",
      "36/36 [==============================] - 3s 86ms/step - loss: 0.5770 - acc: 0.7189 - val_loss: 0.5415 - val_acc: 0.7723\n",
      "Epoch 11/100\n",
      "36/36 [==============================] - 3s 86ms/step - loss: 0.5749 - acc: 0.7200 - val_loss: 0.5391 - val_acc: 0.7723\n",
      "Epoch 12/100\n",
      "36/36 [==============================] - 3s 85ms/step - loss: 0.5728 - acc: 0.7222 - val_loss: 0.5365 - val_acc: 0.7723\n",
      "Epoch 13/100\n",
      "36/36 [==============================] - 3s 85ms/step - loss: 0.5713 - acc: 0.7256 - val_loss: 0.5332 - val_acc: 0.7723\n",
      "Epoch 14/100\n",
      "36/36 [==============================] - 3s 85ms/step - loss: 0.5693 - acc: 0.7267 - val_loss: 0.5332 - val_acc: 0.7723\n",
      "Epoch 15/100\n",
      "36/36 [==============================] - 3s 86ms/step - loss: 0.5673 - acc: 0.7233 - val_loss: 0.5313 - val_acc: 0.7723\n",
      "Epoch 16/100\n",
      "36/36 [==============================] - 3s 87ms/step - loss: 0.5653 - acc: 0.7233 - val_loss: 0.5283 - val_acc: 0.7723\n",
      "Epoch 17/100\n",
      "36/36 [==============================] - 3s 88ms/step - loss: 0.5634 - acc: 0.7211 - val_loss: 0.5253 - val_acc: 0.7723\n",
      "Epoch 18/100\n",
      "36/36 [==============================] - 4s 103ms/step - loss: 0.5613 - acc: 0.7200 - val_loss: 0.5231 - val_acc: 0.7723\n",
      "Epoch 19/100\n",
      "36/36 [==============================] - 3s 93ms/step - loss: 0.5594 - acc: 0.7200 - val_loss: 0.5212 - val_acc: 0.7723\n",
      "Epoch 20/100\n",
      "36/36 [==============================] - 3s 94ms/step - loss: 0.5592 - acc: 0.7233 - val_loss: 0.5201 - val_acc: 0.7624\n",
      "Epoch 21/100\n",
      "36/36 [==============================] - 3s 93ms/step - loss: 0.5571 - acc: 0.7222 - val_loss: 0.5172 - val_acc: 0.7624\n",
      "Epoch 22/100\n",
      "36/36 [==============================] - 3s 91ms/step - loss: 0.5565 - acc: 0.7244 - val_loss: 0.5171 - val_acc: 0.7624\n",
      "Epoch 23/100\n",
      "36/36 [==============================] - 3s 97ms/step - loss: 0.5553 - acc: 0.7278 - val_loss: 0.5172 - val_acc: 0.7624\n",
      "Epoch 24/100\n",
      "36/36 [==============================] - 3s 96ms/step - loss: 0.5537 - acc: 0.7322 - val_loss: 0.5174 - val_acc: 0.7624\n",
      "Epoch 25/100\n",
      "36/36 [==============================] - 3s 91ms/step - loss: 0.5527 - acc: 0.7289 - val_loss: 0.5158 - val_acc: 0.7624\n",
      "Epoch 26/100\n",
      "36/36 [==============================] - 3s 90ms/step - loss: 0.5516 - acc: 0.7300 - val_loss: 0.5154 - val_acc: 0.7624\n",
      "Epoch 27/100\n",
      "36/36 [==============================] - 3s 91ms/step - loss: 0.5515 - acc: 0.7300 - val_loss: 0.5158 - val_acc: 0.7624\n",
      "Epoch 28/100\n",
      "36/36 [==============================] - 3s 88ms/step - loss: 0.5505 - acc: 0.7333 - val_loss: 0.5145 - val_acc: 0.7426\n",
      "Epoch 29/100\n",
      "36/36 [==============================] - 3s 94ms/step - loss: 0.5492 - acc: 0.7333 - val_loss: 0.5142 - val_acc: 0.7426\n",
      "Epoch 30/100\n",
      "36/36 [==============================] - 3s 92ms/step - loss: 0.5483 - acc: 0.7356 - val_loss: 0.5146 - val_acc: 0.7525\n",
      "Epoch 31/100\n",
      "36/36 [==============================] - 3s 86ms/step - loss: 0.5476 - acc: 0.7378 - val_loss: 0.5145 - val_acc: 0.7426\n",
      "Epoch 32/100\n",
      "36/36 [==============================] - 3s 91ms/step - loss: 0.5470 - acc: 0.7367 - val_loss: 0.5140 - val_acc: 0.7426\n",
      "Epoch 33/100\n",
      "36/36 [==============================] - 3s 91ms/step - loss: 0.5455 - acc: 0.7378 - val_loss: 0.5137 - val_acc: 0.7525\n",
      "Epoch 34/100\n",
      "36/36 [==============================] - 4s 100ms/step - loss: 0.5445 - acc: 0.7400 - val_loss: 0.5131 - val_acc: 0.7525\n",
      "Epoch 35/100\n",
      "36/36 [==============================] - 3s 89ms/step - loss: 0.5441 - acc: 0.7433 - val_loss: 0.5119 - val_acc: 0.7525\n",
      "Epoch 36/100\n",
      "36/36 [==============================] - 3s 91ms/step - loss: 0.5428 - acc: 0.7411 - val_loss: 0.5115 - val_acc: 0.7525\n",
      "Epoch 37/100\n",
      "36/36 [==============================] - 3s 93ms/step - loss: 0.5420 - acc: 0.7389 - val_loss: 0.5104 - val_acc: 0.7624\n",
      "Epoch 38/100\n",
      "36/36 [==============================] - 3s 92ms/step - loss: 0.5410 - acc: 0.7411 - val_loss: 0.5117 - val_acc: 0.7624\n",
      "Epoch 39/100\n",
      "36/36 [==============================] - 3s 94ms/step - loss: 0.5398 - acc: 0.7411 - val_loss: 0.5131 - val_acc: 0.7624\n",
      "Epoch 40/100\n",
      "36/36 [==============================] - 3s 91ms/step - loss: 0.5387 - acc: 0.7444 - val_loss: 0.5125 - val_acc: 0.7624\n",
      "Epoch 41/100\n",
      "36/36 [==============================] - 3s 87ms/step - loss: 0.5380 - acc: 0.7456 - val_loss: 0.5140 - val_acc: 0.7624\n",
      "Epoch 42/100\n",
      "36/36 [==============================] - 3s 89ms/step - loss: 0.5369 - acc: 0.7467 - val_loss: 0.5162 - val_acc: 0.7525\n",
      "Epoch 43/100\n",
      "36/36 [==============================] - 3s 86ms/step - loss: 0.5358 - acc: 0.7467 - val_loss: 0.5152 - val_acc: 0.7525\n",
      "Epoch 44/100\n",
      "36/36 [==============================] - 3s 90ms/step - loss: 0.5349 - acc: 0.7500 - val_loss: 0.5153 - val_acc: 0.7525\n",
      "Epoch 45/100\n",
      "36/36 [==============================] - 3s 89ms/step - loss: 0.5342 - acc: 0.7478 - val_loss: 0.5163 - val_acc: 0.7525\n",
      "Epoch 46/100\n",
      "36/36 [==============================] - 3s 89ms/step - loss: 0.5332 - acc: 0.7522 - val_loss: 0.5168 - val_acc: 0.7525\n",
      "Epoch 47/100\n",
      "36/36 [==============================] - 3s 89ms/step - loss: 0.5328 - acc: 0.7511 - val_loss: 0.5153 - val_acc: 0.7525\n",
      "Epoch 48/100\n",
      "36/36 [==============================] - 3s 87ms/step - loss: 0.5323 - acc: 0.7511 - val_loss: 0.5136 - val_acc: 0.7525\n",
      "Epoch 49/100\n",
      "36/36 [==============================] - 3s 88ms/step - loss: 0.5321 - acc: 0.7533 - val_loss: 0.5148 - val_acc: 0.7525\n",
      "Epoch 50/100\n",
      "36/36 [==============================] - 3s 88ms/step - loss: 0.5314 - acc: 0.7522 - val_loss: 0.5152 - val_acc: 0.7525\n",
      "Epoch 51/100\n",
      "36/36 [==============================] - 3s 88ms/step - loss: 0.5306 - acc: 0.7522 - val_loss: 0.5140 - val_acc: 0.7525\n",
      "Epoch 52/100\n",
      "36/36 [==============================] - 3s 89ms/step - loss: 0.5299 - acc: 0.7533 - val_loss: 0.5133 - val_acc: 0.7525\n",
      "Epoch 53/100\n",
      "36/36 [==============================] - 3s 86ms/step - loss: 0.5288 - acc: 0.7556 - val_loss: 0.5130 - val_acc: 0.7525\n",
      "Epoch 54/100\n",
      "36/36 [==============================] - 3s 86ms/step - loss: 0.5281 - acc: 0.7567 - val_loss: 0.5135 - val_acc: 0.7525\n",
      "Epoch 55/100\n",
      "36/36 [==============================] - 3s 88ms/step - loss: 0.5277 - acc: 0.7578 - val_loss: 0.5155 - val_acc: 0.7525\n",
      "Epoch 56/100\n",
      "36/36 [==============================] - 3s 85ms/step - loss: 0.5274 - acc: 0.7578 - val_loss: 0.5151 - val_acc: 0.7525\n",
      "Epoch 57/100\n",
      "36/36 [==============================] - 3s 86ms/step - loss: 0.5261 - acc: 0.7567 - val_loss: 0.5143 - val_acc: 0.7525\n",
      "Epoch 58/100\n",
      "36/36 [==============================] - 3s 85ms/step - loss: 0.5258 - acc: 0.7578 - val_loss: 0.5129 - val_acc: 0.7525\n",
      "Epoch 59/100\n",
      "36/36 [==============================] - 3s 85ms/step - loss: 0.5253 - acc: 0.7578 - val_loss: 0.5137 - val_acc: 0.7525\n",
      "Epoch 60/100\n",
      "36/36 [==============================] - 3s 83ms/step - loss: 0.5248 - acc: 0.7556 - val_loss: 0.5137 - val_acc: 0.7525\n",
      "Epoch 61/100\n",
      "36/36 [==============================] - 3s 85ms/step - loss: 0.5245 - acc: 0.7578 - val_loss: 0.5118 - val_acc: 0.7525\n",
      "Epoch 62/100\n"
     ]
    },
    {
     "name": "stdout",
     "output_type": "stream",
     "text": [
      "36/36 [==============================] - 3s 86ms/step - loss: 0.5231 - acc: 0.7589 - val_loss: 0.5111 - val_acc: 0.7525\n",
      "Epoch 63/100\n",
      "36/36 [==============================] - 3s 86ms/step - loss: 0.5232 - acc: 0.7611 - val_loss: 0.5121 - val_acc: 0.7525\n",
      "Epoch 64/100\n",
      "36/36 [==============================] - 3s 87ms/step - loss: 0.5224 - acc: 0.7600 - val_loss: 0.5126 - val_acc: 0.7525\n",
      "Epoch 65/100\n",
      "36/36 [==============================] - 3s 86ms/step - loss: 0.5221 - acc: 0.7589 - val_loss: 0.5118 - val_acc: 0.7525\n",
      "Epoch 66/100\n",
      "36/36 [==============================] - 3s 88ms/step - loss: 0.5216 - acc: 0.7589 - val_loss: 0.5129 - val_acc: 0.7525\n",
      "Epoch 67/100\n",
      "36/36 [==============================] - 3s 88ms/step - loss: 0.5212 - acc: 0.7578 - val_loss: 0.5129 - val_acc: 0.7525\n",
      "Epoch 68/100\n",
      "36/36 [==============================] - 3s 85ms/step - loss: 0.5209 - acc: 0.7578 - val_loss: 0.5145 - val_acc: 0.7525\n",
      "Epoch 69/100\n",
      "36/36 [==============================] - 3s 88ms/step - loss: 0.5205 - acc: 0.7567 - val_loss: 0.5143 - val_acc: 0.7525\n",
      "Epoch 70/100\n",
      "36/36 [==============================] - 3s 93ms/step - loss: 0.5203 - acc: 0.7556 - val_loss: 0.5163 - val_acc: 0.7525\n",
      "Epoch 71/100\n",
      "36/36 [==============================] - 3s 91ms/step - loss: 0.5196 - acc: 0.7544 - val_loss: 0.5164 - val_acc: 0.7525\n",
      "Epoch 72/100\n",
      "36/36 [==============================] - 3s 91ms/step - loss: 0.5190 - acc: 0.7567 - val_loss: 0.5171 - val_acc: 0.7426\n",
      "Epoch 73/100\n",
      "36/36 [==============================] - 3s 92ms/step - loss: 0.5185 - acc: 0.7578 - val_loss: 0.5190 - val_acc: 0.7426\n",
      "Epoch 74/100\n",
      "36/36 [==============================] - 3s 94ms/step - loss: 0.5185 - acc: 0.7556 - val_loss: 0.5169 - val_acc: 0.7525\n",
      "Epoch 75/100\n",
      "36/36 [==============================] - 3s 90ms/step - loss: 0.5181 - acc: 0.7578 - val_loss: 0.5168 - val_acc: 0.7426\n",
      "Epoch 76/100\n",
      "36/36 [==============================] - 3s 89ms/step - loss: 0.5179 - acc: 0.7589 - val_loss: 0.5176 - val_acc: 0.7426\n",
      "Epoch 77/100\n",
      "36/36 [==============================] - 3s 87ms/step - loss: 0.5176 - acc: 0.7578 - val_loss: 0.5163 - val_acc: 0.7426\n",
      "Epoch 78/100\n",
      "36/36 [==============================] - 3s 89ms/step - loss: 0.5171 - acc: 0.7600 - val_loss: 0.5177 - val_acc: 0.7426\n",
      "Epoch 79/100\n",
      "36/36 [==============================] - 3s 89ms/step - loss: 0.5166 - acc: 0.7611 - val_loss: 0.5175 - val_acc: 0.7426\n",
      "Epoch 80/100\n",
      "36/36 [==============================] - 3s 90ms/step - loss: 0.5161 - acc: 0.7611 - val_loss: 0.5181 - val_acc: 0.7426\n",
      "Epoch 81/100\n",
      "36/36 [==============================] - 3s 91ms/step - loss: 0.5155 - acc: 0.7622 - val_loss: 0.5176 - val_acc: 0.7327\n",
      "Epoch 82/100\n",
      "36/36 [==============================] - 3s 88ms/step - loss: 0.5156 - acc: 0.7611 - val_loss: 0.5166 - val_acc: 0.7327\n",
      "Epoch 83/100\n",
      "36/36 [==============================] - 3s 90ms/step - loss: 0.5148 - acc: 0.7589 - val_loss: 0.5173 - val_acc: 0.7426\n",
      "Epoch 84/100\n",
      "36/36 [==============================] - 3s 87ms/step - loss: 0.5138 - acc: 0.7600 - val_loss: 0.5164 - val_acc: 0.7327\n",
      "Epoch 85/100\n",
      "36/36 [==============================] - 3s 78ms/step - loss: 0.5138 - acc: 0.7589 - val_loss: 0.5160 - val_acc: 0.7327\n",
      "Epoch 86/100\n",
      "36/36 [==============================] - 3s 71ms/step - loss: 0.5131 - acc: 0.7622 - val_loss: 0.5147 - val_acc: 0.7327\n",
      "Epoch 87/100\n",
      "36/36 [==============================] - 2s 70ms/step - loss: 0.5125 - acc: 0.7622 - val_loss: 0.5132 - val_acc: 0.7327\n",
      "Epoch 88/100\n",
      "36/36 [==============================] - 3s 71ms/step - loss: 0.5117 - acc: 0.7622 - val_loss: 0.5115 - val_acc: 0.7327\n",
      "Epoch 89/100\n",
      "36/36 [==============================] - 3s 71ms/step - loss: 0.5112 - acc: 0.7622 - val_loss: 0.5115 - val_acc: 0.7327\n",
      "Epoch 90/100\n",
      "36/36 [==============================] - 2s 69ms/step - loss: 0.5103 - acc: 0.7600 - val_loss: 0.5113 - val_acc: 0.7327\n",
      "Epoch 91/100\n",
      "36/36 [==============================] - 3s 75ms/step - loss: 0.5102 - acc: 0.7622 - val_loss: 0.5115 - val_acc: 0.7228\n",
      "Epoch 92/100\n",
      "36/36 [==============================] - 3s 78ms/step - loss: 0.5097 - acc: 0.7611 - val_loss: 0.5122 - val_acc: 0.7228\n",
      "Epoch 93/100\n",
      "36/36 [==============================] - 3s 71ms/step - loss: 0.5092 - acc: 0.7622 - val_loss: 0.5117 - val_acc: 0.7228\n",
      "Epoch 94/100\n",
      "36/36 [==============================] - 3s 74ms/step - loss: 0.5089 - acc: 0.7611 - val_loss: 0.5126 - val_acc: 0.7228\n",
      "Epoch 95/100\n",
      "36/36 [==============================] - 3s 72ms/step - loss: 0.5079 - acc: 0.7600 - val_loss: 0.5121 - val_acc: 0.7228\n",
      "Epoch 96/100\n",
      "36/36 [==============================] - 3s 76ms/step - loss: 0.5078 - acc: 0.7622 - val_loss: 0.5110 - val_acc: 0.7228\n",
      "Epoch 97/100\n",
      "36/36 [==============================] - 3s 76ms/step - loss: 0.5070 - acc: 0.7633 - val_loss: 0.5093 - val_acc: 0.7327\n",
      "Epoch 98/100\n",
      "36/36 [==============================] - 3s 80ms/step - loss: 0.5071 - acc: 0.7633 - val_loss: 0.5091 - val_acc: 0.7327\n",
      "Epoch 99/100\n",
      "36/36 [==============================] - 3s 79ms/step - loss: 0.5066 - acc: 0.7622 - val_loss: 0.5076 - val_acc: 0.7327\n",
      "Epoch 100/100\n",
      "36/36 [==============================] - 3s 78ms/step - loss: 0.5065 - acc: 0.7611 - val_loss: 0.5079 - val_acc: 0.7327\n"
     ]
    }
   ],
   "source": [
    "# instantiate DGCNN object\n",
    "dgcnn = DGCNN()\n",
    "# create the data generators used in model training and specify a training batch size of 25\n",
    "dgcnn.get_training_generators(train_graphs, train_index, train_labels, valid_index, valid_labels, 25)\n",
    "# create the DGCNN model, specifying all layer parameters\n",
    "dgcnn.create_DGCNN(layer_sizes = [32, 32, 32, 1], activations = ['tanh', 'tanh', 'tanh', 'tanh'], k = 35, \n",
    "                   num_kernels = [16, 32], kernel_sizes = [sum([32, 32, 32, 1]), 4], strides = [sum([32, 32, 32, 1]), 1],\n",
    "                   pool_size = 2, num_neurons = [32, 32], fc_activations = ['relu', 'relu', 'sigmoid'])\n",
    "# compile and train the DGCNN\n",
    "dgcnn.configure_train_DGCNN(learning_rate = 0.0001, loss_function = 'binary_crossentropy', epochs = 100)\n",
    "# create the data generator used in testing\n",
    "dgcnn.get_testing_generator(test_graphs, test_labels)"
   ]
  },
  {
   "cell_type": "markdown",
   "id": "43547219",
   "metadata": {},
   "source": [
    "We can view the model's predictions on the test set."
   ]
  },
  {
   "cell_type": "code",
   "execution_count": 40,
   "id": "bca4a325",
   "metadata": {},
   "outputs": [
    {
     "data": {
      "text/html": [
       "<div>\n",
       "<style scoped>\n",
       "    .dataframe tbody tr th:only-of-type {\n",
       "        vertical-align: middle;\n",
       "    }\n",
       "\n",
       "    .dataframe tbody tr th {\n",
       "        vertical-align: top;\n",
       "    }\n",
       "\n",
       "    .dataframe thead th {\n",
       "        text-align: right;\n",
       "    }\n",
       "</style>\n",
       "<table border=\"1\" class=\"dataframe\">\n",
       "  <thead>\n",
       "    <tr style=\"text-align: right;\">\n",
       "      <th></th>\n",
       "      <th>prediction</th>\n",
       "      <th>label</th>\n",
       "      <th>assessment</th>\n",
       "    </tr>\n",
       "  </thead>\n",
       "  <tbody>\n",
       "    <tr>\n",
       "      <th>0</th>\n",
       "      <td>0.122540</td>\n",
       "      <td>0</td>\n",
       "      <td>TN</td>\n",
       "    </tr>\n",
       "    <tr>\n",
       "      <th>1</th>\n",
       "      <td>0.111393</td>\n",
       "      <td>1</td>\n",
       "      <td>FN</td>\n",
       "    </tr>\n",
       "    <tr>\n",
       "      <th>2</th>\n",
       "      <td>0.403089</td>\n",
       "      <td>1</td>\n",
       "      <td>FN</td>\n",
       "    </tr>\n",
       "    <tr>\n",
       "      <th>3</th>\n",
       "      <td>0.429360</td>\n",
       "      <td>0</td>\n",
       "      <td>TN</td>\n",
       "    </tr>\n",
       "    <tr>\n",
       "      <th>4</th>\n",
       "      <td>0.105703</td>\n",
       "      <td>0</td>\n",
       "      <td>TN</td>\n",
       "    </tr>\n",
       "    <tr>\n",
       "      <th>5</th>\n",
       "      <td>0.829533</td>\n",
       "      <td>1</td>\n",
       "      <td>TP</td>\n",
       "    </tr>\n",
       "    <tr>\n",
       "      <th>6</th>\n",
       "      <td>0.193982</td>\n",
       "      <td>0</td>\n",
       "      <td>TN</td>\n",
       "    </tr>\n",
       "    <tr>\n",
       "      <th>7</th>\n",
       "      <td>0.206989</td>\n",
       "      <td>0</td>\n",
       "      <td>TN</td>\n",
       "    </tr>\n",
       "    <tr>\n",
       "      <th>8</th>\n",
       "      <td>0.846747</td>\n",
       "      <td>1</td>\n",
       "      <td>TP</td>\n",
       "    </tr>\n",
       "    <tr>\n",
       "      <th>9</th>\n",
       "      <td>0.699649</td>\n",
       "      <td>1</td>\n",
       "      <td>TP</td>\n",
       "    </tr>\n",
       "    <tr>\n",
       "      <th>10</th>\n",
       "      <td>0.075326</td>\n",
       "      <td>0</td>\n",
       "      <td>TN</td>\n",
       "    </tr>\n",
       "    <tr>\n",
       "      <th>11</th>\n",
       "      <td>0.590481</td>\n",
       "      <td>1</td>\n",
       "      <td>TP</td>\n",
       "    </tr>\n",
       "    <tr>\n",
       "      <th>12</th>\n",
       "      <td>0.097921</td>\n",
       "      <td>0</td>\n",
       "      <td>TN</td>\n",
       "    </tr>\n",
       "    <tr>\n",
       "      <th>13</th>\n",
       "      <td>0.219774</td>\n",
       "      <td>0</td>\n",
       "      <td>TN</td>\n",
       "    </tr>\n",
       "    <tr>\n",
       "      <th>14</th>\n",
       "      <td>0.082815</td>\n",
       "      <td>0</td>\n",
       "      <td>TN</td>\n",
       "    </tr>\n",
       "    <tr>\n",
       "      <th>15</th>\n",
       "      <td>0.149859</td>\n",
       "      <td>0</td>\n",
       "      <td>TN</td>\n",
       "    </tr>\n",
       "    <tr>\n",
       "      <th>16</th>\n",
       "      <td>0.233239</td>\n",
       "      <td>0</td>\n",
       "      <td>TN</td>\n",
       "    </tr>\n",
       "    <tr>\n",
       "      <th>17</th>\n",
       "      <td>0.551149</td>\n",
       "      <td>1</td>\n",
       "      <td>TP</td>\n",
       "    </tr>\n",
       "    <tr>\n",
       "      <th>18</th>\n",
       "      <td>0.116719</td>\n",
       "      <td>0</td>\n",
       "      <td>TN</td>\n",
       "    </tr>\n",
       "    <tr>\n",
       "      <th>19</th>\n",
       "      <td>0.623587</td>\n",
       "      <td>1</td>\n",
       "      <td>TP</td>\n",
       "    </tr>\n",
       "    <tr>\n",
       "      <th>20</th>\n",
       "      <td>0.085451</td>\n",
       "      <td>0</td>\n",
       "      <td>TN</td>\n",
       "    </tr>\n",
       "  </tbody>\n",
       "</table>\n",
       "</div>"
      ],
      "text/plain": [
       "    prediction  label assessment\n",
       "0     0.122540      0         TN\n",
       "1     0.111393      1         FN\n",
       "2     0.403089      1         FN\n",
       "3     0.429360      0         TN\n",
       "4     0.105703      0         TN\n",
       "5     0.829533      1         TP\n",
       "6     0.193982      0         TN\n",
       "7     0.206989      0         TN\n",
       "8     0.846747      1         TP\n",
       "9     0.699649      1         TP\n",
       "10    0.075326      0         TN\n",
       "11    0.590481      1         TP\n",
       "12    0.097921      0         TN\n",
       "13    0.219774      0         TN\n",
       "14    0.082815      0         TN\n",
       "15    0.149859      0         TN\n",
       "16    0.233239      0         TN\n",
       "17    0.551149      1         TP\n",
       "18    0.116719      0         TN\n",
       "19    0.623587      1         TP\n",
       "20    0.085451      0         TN"
      ]
     },
     "execution_count": 40,
     "metadata": {},
     "output_type": "execute_result"
    }
   ],
   "source": [
    "dgcnn.get_test_results()\n",
    "dgcnn.results_df[0:21]"
   ]
  },
  {
   "cell_type": "markdown",
   "id": "827c68b0",
   "metadata": {},
   "source": [
    "Now let's view the numpy array of predicted classes. Verify with the 'prediction' column of the above dataframe. These predicted labels are required to generate the confusion matrix and classification report."
   ]
  },
  {
   "cell_type": "code",
   "execution_count": 41,
   "id": "cbe29793",
   "metadata": {},
   "outputs": [
    {
     "name": "stdout",
     "output_type": "stream",
     "text": [
      "[0 0 0 0 0 1 0 0 1 1 0 1 0 0 0 0 0 1 0 1 0 1 1 0 0 0 0 0 0 0 1 1 0 1 0 0 1\n",
      " 1 0 0 1 0 0 0 0 0 0 1 0 1 0 0 1 0 1 1 0 0 0 0 0 1 0 1 0 0 1 0 1 1 0 0 0 0\n",
      " 0 0 0 1 0 1 0 0 0 1 1 0 0 0 1 1 1 0 0 0 1 1 1 1 1 0 1 0 0 1 1 1 0 0 1 0 1\n",
      " 1]\n"
     ]
    }
   ],
   "source": [
    "dgcnn.evaluate_results()\n",
    "print(dgcnn.predicted_classes)"
   ]
  },
  {
   "cell_type": "markdown",
   "id": "d05068f7",
   "metadata": {},
   "source": [
    "Precision is defined as \n",
    "$$P = \\frac{|TP|}{|TP| + |FP|}$$\n",
    "and recall as\n",
    "$$R = \\frac{|TP|}{|TP| + |FN|}$$\n",
    "where $|TP|$ is the number of true-positives, $|FP|$ is the number of false-positives, and $|FN|$ is the number of false-negatives. Precision essentially tells us the proportion of positive predictions that are actually correct, whereas the recall gives us the proportion of positive samples that are correctly predicted. A good classifier therefore, will have precision and recall close to one.\n",
    "\n",
    "Let's view some of the predictions made by the DGCNN model. Note that the above equations are defined for the positive class only, but we can in fact calculate the precision and recall for the negative class by switching the labels around, i.e., switching true-negatives for true-positives, and false-positives for false-negatives. "
   ]
  },
  {
   "cell_type": "code",
   "execution_count": 42,
   "id": "41b4ef12",
   "metadata": {},
   "outputs": [
    {
     "name": "stdout",
     "output_type": "stream",
     "text": [
      "[[54 11]\n",
      " [15 32]]\n",
      "              precision    recall  f1-score   support\n",
      "\n",
      "           0       0.78      0.83      0.81        65\n",
      "           1       0.74      0.68      0.71        47\n",
      "\n",
      "    accuracy                           0.77       112\n",
      "   macro avg       0.76      0.76      0.76       112\n",
      "weighted avg       0.77      0.77      0.77       112\n",
      "\n"
     ]
    }
   ],
   "source": [
    "print(dgcnn.confusion_matrix)\n",
    "print(dgcnn.classification_report)"
   ]
  },
  {
   "cell_type": "markdown",
   "id": "d2f42f32",
   "metadata": {},
   "source": [
    "We can see that performance on the positive class is worse than on the negative class. This is likely due to the class imabalance that exists between the two labels. "
   ]
  },
  {
   "cell_type": "markdown",
   "id": "3295d397",
   "metadata": {},
   "source": [
    "Let's finish off by visualising the training history of the DGCNN model."
   ]
  },
  {
   "cell_type": "code",
   "execution_count": 43,
   "id": "33599e3b",
   "metadata": {},
   "outputs": [
    {
     "data": {
      "image/png": "[encoded data removed]",
      "text/plain": [
       "<Figure size 504x576 with 2 Axes>"
      ]
     },
     "metadata": {
      "needs_background": "light"
     },
     "output_type": "display_data"
    }
   ],
   "source": [
    "dgcnn.training_history()"
   ]
  }
 ],
 "metadata": {
  "kernelspec": {
   "display_name": "Python 3",
   "language": "python",
   "name": "python3"
  },
  "language_info": {
   "codemirror_mode": {
    "name": "ipython",
    "version": 3
   },
   "file_extension": ".py",
   "mimetype": "text/x-python",
   "name": "python",
   "nbconvert_exporter": "python",
   "pygments_lexer": "ipython3",
   "version": "3.6.8"
  }
 },
 "nbformat": 4,
 "nbformat_minor": 5
}
